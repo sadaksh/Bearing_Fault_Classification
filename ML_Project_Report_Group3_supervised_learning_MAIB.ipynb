{
  "cells": [
    {
      "cell_type": "markdown",
      "id": "2d551141",
      "metadata": {
        "id": "2d551141",
        "papermill": {
          "duration": 0.032761,
          "end_time": "2022-04-15T13:13:56.459374",
          "exception": false,
          "start_time": "2022-04-15T13:13:56.426613",
          "status": "completed"
        },
        "tags": []
      },
      "source": [
        "**This notebook contains followings:**\n",
        "* Data Merging\n",
        "* Feature Extraction\n",
        "* Model Selection\n",
        "* Hyperparameter Tuning\n",
        "* Results on All Datasets\n",
        "* References\n",
        "* Conclusion\n",
        "* Additional Resources\n"
      ]
    },
    {
      "cell_type": "markdown",
      "id": "5yw08XrW1xmk",
      "metadata": {
        "id": "5yw08XrW1xmk",
        "papermill": {
          "duration": 0.030655,
          "end_time": "2022-04-15T13:14:02.372123",
          "exception": false,
          "start_time": "2022-04-15T13:14:02.341468",
          "status": "completed"
        },
        "tags": []
      },
      "source": [
        "# Importing Libraries #"
      ]
    },
    {
      "cell_type": "code",
      "execution_count": null,
      "id": "ez7Gq1BxjM8k",
      "metadata": {
        "id": "ez7Gq1BxjM8k"
      },
      "outputs": [],
      "source": [
        "!pip install catboost\n",
        "\n",
        "!pip install lightgbm\n",
        "\n",
        "!pip install neptune-client[optuna]"
      ]
    },
    {
      "cell_type": "code",
      "execution_count": null,
      "id": "VOf42kUnjsMG",
      "metadata": {
        "id": "VOf42kUnjsMG"
      },
      "outputs": [],
      "source": [
        "from google.colab import files\n",
        "upload = files.upload()"
      ]
    },
    {
      "cell_type": "code",
      "execution_count": null,
      "id": "fce1611c",
      "metadata": {
        "_cell_guid": "b1076dfc-b9ad-4769-8c92-a6c4dae69d19",
        "_uuid": "8f2839f25d086af736a60e9eeb907d3b93b6e0e5",
        "execution": {
          "iopub.execute_input": "2022-04-15T13:13:56.603292Z",
          "iopub.status.busy": "2022-04-15T13:13:56.602545Z",
          "iopub.status.idle": "2022-04-15T13:14:00.495338Z",
          "shell.execute_reply": "2022-04-15T13:14:00.495821Z",
          "shell.execute_reply.started": "2022-03-25T16:02:10.094362Z"
        },
        "id": "fce1611c",
        "papermill": {
          "duration": 4.00681,
          "end_time": "2022-04-15T13:14:00.496117",
          "exception": false,
          "start_time": "2022-04-15T13:13:56.489307",
          "status": "completed"
        },
        "tags": []
      },
      "outputs": [],
      "source": [
        "#importing necessary libraries\n",
        "import os\n",
        "import numpy as np \n",
        "import pandas as pd \n",
        "import matplotlib.pyplot as plt \n",
        "import scipy\n",
        "from scipy.stats import entropy\n",
        "from sklearn.model_selection import train_test_split\n",
        "from sklearn.metrics import accuracy_score,f1_score\n",
        "from sklearn import preprocessing\n",
        "import xgboost as xgb\n",
        "import catboost as cb\n",
        "import lightgbm as lgbm\n",
        "from sklearn.preprocessing import StandardScaler\n",
        "from sklearn.neural_network import MLPClassifier\n",
        "from sklearn.neighbors import KNeighborsClassifier\n",
        "from sklearn.svm import SVC\n",
        "from sklearn.gaussian_process import GaussianProcessClassifier\n",
        "from sklearn.gaussian_process.kernels import RBF\n",
        "from sklearn.tree import DecisionTreeClassifier\n",
        "from sklearn.ensemble import RandomForestClassifier, AdaBoostClassifier\n",
        "from sklearn.naive_bayes import GaussianNB\n",
        "from sklearn.discriminant_analysis import QuadraticDiscriminantAnalysis\n",
        "import plotly.express as px\n",
        "import plotly.graph_objects as go\n",
        "import optuna"
      ]
    },
    {
      "cell_type": "markdown",
      "id": "3d37ea84",
      "metadata": {
        "id": "3d37ea84",
        "papermill": {
          "duration": 0.030655,
          "end_time": "2022-04-15T13:14:02.372123",
          "exception": false,
          "start_time": "2022-04-15T13:14:02.341468",
          "status": "completed"
        },
        "tags": []
      },
      "source": [
        "# Feature Extraction #"
      ]
    },
    {
      "cell_type": "markdown",
      "id": "e6e3537f",
      "metadata": {
        "id": "e6e3537f",
        "papermill": {
          "duration": 0.030865,
          "end_time": "2022-04-15T13:24:25.234390",
          "exception": false,
          "start_time": "2022-04-15T13:24:25.203525",
          "status": "completed"
        },
        "tags": []
      },
      "source": [
        "Reading Data again"
      ]
    },
    {
      "cell_type": "code",
      "execution_count": null,
      "id": "fe9e3df6",
      "metadata": {
        "execution": {
          "iopub.execute_input": "2022-04-15T13:24:25.304047Z",
          "iopub.status.busy": "2022-04-15T13:24:25.303289Z",
          "iopub.status.idle": "2022-04-15T13:24:25.350453Z",
          "shell.execute_reply": "2022-04-15T13:24:25.350021Z",
          "shell.execute_reply.started": "2022-03-25T16:12:18.339236Z"
        },
        "id": "fe9e3df6",
        "papermill": {
          "duration": 0.084709,
          "end_time": "2022-04-15T13:24:25.350570",
          "exception": false,
          "start_time": "2022-04-15T13:24:25.265861",
          "status": "completed"
        },
        "tags": []
      },
      "outputs": [],
      "source": [
        "set1 = pd.read_csv(\"./set1_timefeatures.csv\")"
      ]
    },
    {
      "cell_type": "code",
      "execution_count": null,
      "id": "z2eNZyYAEaEm",
      "metadata": {
        "id": "z2eNZyYAEaEm"
      },
      "outputs": [],
      "source": [
        "##"
      ]
    },
    {
      "cell_type": "code",
      "execution_count": null,
      "id": "bc3d55b6",
      "metadata": {
        "id": "bc3d55b6"
      },
      "outputs": [],
      "source": [
        "set1.head(100)"
      ]
    },
    {
      "cell_type": "code",
      "execution_count": null,
      "id": "3745ab43",
      "metadata": {
        "id": "3745ab43"
      },
      "outputs": [],
      "source": [
        "set1.shape"
      ]
    },
    {
      "cell_type": "markdown",
      "id": "3fa124d8",
      "metadata": {
        "id": "3fa124d8",
        "papermill": {
          "duration": 0.031008,
          "end_time": "2022-04-15T13:24:25.412765",
          "exception": false,
          "start_time": "2022-04-15T13:24:25.381757",
          "status": "completed"
        },
        "tags": []
      },
      "source": [
        "Changing indexing column to time which is also name of the each file"
      ]
    },
    {
      "cell_type": "code",
      "execution_count": null,
      "id": "764b71d3",
      "metadata": {
        "execution": {
          "iopub.execute_input": "2022-04-15T13:24:25.482754Z",
          "iopub.status.busy": "2022-04-15T13:24:25.481832Z",
          "iopub.status.idle": "2022-04-15T13:24:25.662110Z",
          "shell.execute_reply": "2022-04-15T13:24:25.662533Z",
          "shell.execute_reply.started": "2022-03-25T16:12:18.392979Z"
        },
        "id": "764b71d3",
        "papermill": {
          "duration": 0.218536,
          "end_time": "2022-04-15T13:24:25.662675",
          "exception": false,
          "start_time": "2022-04-15T13:24:25.444139",
          "status": "completed"
        },
        "tags": []
      },
      "outputs": [],
      "source": [
        "set1 = set1.rename(columns={'Unnamed: 0':'time'})\n",
        "set1.set_index('time')\n",
        "set1.describe()"
      ]
    },
    {
      "cell_type": "markdown",
      "id": "1f6ee56f",
      "metadata": {
        "id": "1f6ee56f",
        "papermill": {
          "duration": 0.032853,
          "end_time": "2022-04-15T13:24:25.728202",
          "exception": false,
          "start_time": "2022-04-15T13:24:25.695349",
          "status": "completed"
        },
        "tags": []
      },
      "source": [
        "Plotting features of all bearings in both x and y axis"
      ]
    },
    {
      "cell_type": "code",
      "execution_count": null,
      "id": "227add25",
      "metadata": {
        "execution": {
          "iopub.execute_input": "2022-04-15T13:24:25.808908Z",
          "iopub.status.busy": "2022-04-15T13:24:25.801960Z",
          "iopub.status.idle": "2022-04-15T13:24:36.016980Z",
          "shell.execute_reply": "2022-04-15T13:24:36.017411Z",
          "shell.execute_reply.started": "2022-03-25T16:12:18.58181Z"
        },
        "id": "227add25",
        "papermill": {
          "duration": 10.257504,
          "end_time": "2022-04-15T13:24:36.017559",
          "exception": false,
          "start_time": "2022-04-15T13:24:25.760055",
          "status": "completed"
        },
        "tags": []
      },
      "outputs": [],
      "source": [
        "time_features_list = [\"mean\",\"std\",\"skew\",\"kurtosis\",\"entropy\",\"rms\",\"max\",\"p2p\", \"crest\", \"clearence\", \"shape\", \"impulse\"]\n",
        "bearings_xy = [[\"B\"+str(n)+\"_\"+str(o)+\"_\" for n in range(1,5)] for o in ['x','y'] ] \n",
        "#print(bearings_xy)\n",
        "for tf in time_features_list:\n",
        "    fig = plt.figure()\n",
        "    # Divide the figure into a 1x4 grid, and give me the first section\n",
        "    ax1 = fig.add_subplot(141)\n",
        "    # Divide the figure into a 1x4 grid, and give me the second section\n",
        "    ax2 = fig.add_subplot(142)\n",
        "    #...so on\n",
        "    ax3 = fig.add_subplot(143)\n",
        "    ax4 = fig.add_subplot(144)\n",
        "    axes = [ax1,ax2,ax3, ax4]\n",
        "    \n",
        "    for i in range(4):\n",
        "        col = bearings_xy[0][i]+tf\n",
        "        set1[col].plot(figsize = (36,6), title=\"Bearing{} x-y_\".format(i+1)+tf , legend = True, ax=axes[i])\n",
        "        col = bearings_xy[1][i]+tf\n",
        "        set1[col].plot(figsize = (36,6) , legend = True, ax=axes[i])\n",
        "        axes[i].set(xlabel=\"cycle\", ylabel=\"value\")\n",
        "        \n",
        "    \n",
        "    "
      ]
    },
    {
      "cell_type": "code",
      "execution_count": null,
      "id": "2effd452",
      "metadata": {
        "execution": {
          "iopub.execute_input": "2022-04-15T13:24:36.170036Z",
          "iopub.status.busy": "2022-04-15T13:24:36.169146Z",
          "iopub.status.idle": "2022-04-15T13:24:36.171747Z",
          "shell.execute_reply": "2022-04-15T13:24:36.171313Z",
          "shell.execute_reply.started": "2022-03-25T16:12:28.946057Z"
        },
        "id": "2effd452",
        "papermill": {
          "duration": 0.081246,
          "end_time": "2022-04-15T13:24:36.171855",
          "exception": false,
          "start_time": "2022-04-15T13:24:36.090609",
          "status": "completed"
        },
        "tags": []
      },
      "outputs": [],
      "source": [
        "#Health Status labels are added according to following dictionary\n",
        "B1 ={\n",
        "    \"early\" : [\"2003-10-22 12:06:24\" , \"2003-10-23 09:14:13\"],\n",
        "    \"suspect\" : [\"2003-10-23 09:24:13\" , \"2003-11-08 12:11:44\"],\n",
        "    \"normal\" : [\"2003-11-08 12:21:44\" , \"2003-11-19 21:06:07\"],\n",
        "    \"suspect_1\" : [\"2003-11-19 21:16:07\" , \"2003-11-24 20:47:32\"],\n",
        "    \"imminent_failure\" : [\"2003-11-24 20:57:32\",\"2003-11-25 23:39:56\"]\n",
        "}\n",
        "B2 = {\n",
        "    \"early\" : [\"2003-10-22 12:06:24\" , \"2003-11-01 21:41:44\"],\n",
        "    \"normal\" : [\"2003-11-01 21:51:44\" , \"2003-11-24 01:01:24\"],\n",
        "    \"suspect\" : [\"2003-11-24 01:11:24\" , \"2003-11-25 10:47:32\"],\n",
        "    \"imminient_failure\" : [\"2003-11-25 10:57:32\" , \"2003-11-25 23:39:56\"]\n",
        "}\n",
        "\n",
        "B3 = {\n",
        "    \"early\" : [\"2003-10-22 12:06:24\" , \"2003-11-01 21:41:44\"],\n",
        "    \"normal\" : [\"2003-11-01 21:51:44\" , \"2003-11-22 09:16:56\"],\n",
        "    \"suspect\" : [\"2003-11-22 09:26:56\" , \"2003-11-25 10:47:32\"],\n",
        "    \"Inner_race_failure\" : [\"2003-11-25 10:57:32\" , \"2003-11-25 23:39:56\"]\n",
        "}\n",
        "\n",
        "B4 = {\n",
        "    \"early\" : [\"2003-10-22 12:06:24\" , \"2003-10-29 21:39:46\"],\n",
        "    \"normal\" : [\"2003-10-29 21:49:46\" , \"2003-11-15 05:08:46\"],\n",
        "    \"suspect\" : [\"2003-11-15 05:18:46\" , \"2003-11-18 19:12:30\"],\n",
        "    \"Rolling_element_failure\" : [\"2003-11-19 09:06:09\" , \"2003-11-22 17:36:56\"],\n",
        "    \"Stage_two_failure\" : [\"2003-11-22 17:46:56\" , \"2003-11-25 23:39:56\"]\n",
        "}\n"
      ]
    },
    {
      "cell_type": "markdown",
      "id": "cd25fb6f",
      "metadata": {
        "id": "cd25fb6f",
        "papermill": {
          "duration": 0.071711,
          "end_time": "2022-04-15T13:24:36.312642",
          "exception": false,
          "start_time": "2022-04-15T13:24:36.240931",
          "status": "completed"
        },
        "tags": []
      },
      "source": [
        "Adding labels to the dataframe"
      ]
    },
    {
      "cell_type": "code",
      "execution_count": null,
      "id": "049cdecd",
      "metadata": {
        "execution": {
          "iopub.execute_input": "2022-04-15T13:24:36.499712Z",
          "iopub.status.busy": "2022-04-15T13:24:36.486794Z",
          "iopub.status.idle": "2022-04-15T13:24:36.504175Z",
          "shell.execute_reply": "2022-04-15T13:24:36.505232Z",
          "shell.execute_reply.started": "2022-03-25T16:12:28.957982Z"
        },
        "id": "049cdecd",
        "papermill": {
          "duration": 0.12284,
          "end_time": "2022-04-15T13:24:36.505406",
          "exception": false,
          "start_time": "2022-04-15T13:24:36.382566",
          "status": "completed"
        },
        "tags": []
      },
      "outputs": [],
      "source": [
        "B1_state = list()\n",
        "B2_state = list()\n",
        "B3_state = list()\n",
        "B4_state = list()\n",
        "cnt = 0\n",
        "\n",
        "for row in set1[\"time\"]:\n",
        "    cnt += 1\n",
        "    # B1\n",
        "    if cnt<=151:\n",
        "        B1_state.append(\"early\")\n",
        "    if 151 < cnt <=600:\n",
        "        B1_state.append(\"suspect\")\n",
        "    if 600 < cnt <=1499:\n",
        "        B1_state.append(\"normal\")\n",
        "    if 1499 < cnt <=2098:\n",
        "        B1_state.append(\"suspect\")\n",
        "    if 2098 < cnt <= 2156:\n",
        "        B1_state.append(\"imminent_failure\")\n",
        "    #B2\n",
        "    if cnt<=500:\n",
        "        B2_state.append(\"early\")\n",
        "    if 500 < cnt <=2000:\n",
        "        B2_state.append(\"normal\")\n",
        "    if 2000 < cnt <=2120:\n",
        "        B2_state.append(\"suspect\")\n",
        "    if 2120< cnt <=2156:\n",
        "        B2_state.append(\"imminet_failure\")\n",
        "\n",
        "    #B3\n",
        "    if cnt<=500:\n",
        "        B3_state.append(\"early\")\n",
        "    if 500 < cnt <= 1790:\n",
        "        B3_state.append(\"normal\")\n",
        "    if 1790 < cnt <=2120:\n",
        "        B3_state.append(\"suspect\")\n",
        "    if 2120 < cnt <=2156:\n",
        "        B3_state.append(\"Inner_race_failure\")\n",
        "    #B4\n",
        "    if cnt<=200:\n",
        "        B4_state.append(\"early\")\n",
        "    if 200 < cnt <=1000:\n",
        "        B4_state.append(\"normal\")\n",
        "    if 1000 < cnt <= 1435:\n",
        "        B4_state.append(\"suspect\")\n",
        "    if 1435 < cnt <=1840:\n",
        "        B4_state.append(\"Inner_race_failure\")\n",
        "    if 1840 < cnt <=2156:\n",
        "        B4_state.append(\"Stage_two_failure\")\n",
        "#controlling the counts\n",
        "from collections import Counter\n",
        "print(Counter(B1_state))\n",
        "print(Counter(B2_state))\n",
        "print(Counter(B3_state))\n",
        "print(Counter(B4_state))\n",
        "\n",
        "set1[\"B1_state\"] = B1_state\n",
        "set1[\"B2_state\"] = B2_state\n",
        "set1[\"B3_state\"] = B3_state\n",
        "set1[\"B4_state\"] = B4_state\n",
        "\n",
        "set1.head()\n",
        "\n",
        "set1.shape"
      ]
    },
    {
      "cell_type": "markdown",
      "id": "c46b6edd",
      "metadata": {
        "id": "c46b6edd",
        "papermill": {
          "duration": 0.070099,
          "end_time": "2022-04-15T13:24:36.645957",
          "exception": false,
          "start_time": "2022-04-15T13:24:36.575858",
          "status": "completed"
        },
        "tags": []
      },
      "source": [
        "Splitting each bearing data and adding them end to end vertically"
      ]
    },
    {
      "cell_type": "code",
      "execution_count": null,
      "id": "db8d7728",
      "metadata": {
        "execution": {
          "iopub.execute_input": "2022-04-15T13:24:36.798029Z",
          "iopub.status.busy": "2022-04-15T13:24:36.797488Z",
          "iopub.status.idle": "2022-04-15T13:24:36.872797Z",
          "shell.execute_reply": "2022-04-15T13:24:36.873428Z",
          "shell.execute_reply.started": "2022-03-25T16:12:29.009351Z"
        },
        "id": "db8d7728",
        "papermill": {
          "duration": 0.157488,
          "end_time": "2022-04-15T13:24:36.873562",
          "exception": false,
          "start_time": "2022-04-15T13:24:36.716074",
          "status": "completed"
        },
        "tags": []
      },
      "outputs": [],
      "source": [
        "B1_cols = [col for col in set1.columns if \"B1\" in col]\n",
        "B2_cols = [col for col in set1.columns if \"B2\" in col]\n",
        "B3_cols = [col for col in set1.columns if \"B3\" in col]\n",
        "B4_cols = [col for col in set1.columns if \"B4\" in col]\n",
        "\n",
        "B1 = set1[B1_cols]\n",
        "B2 = set1[B2_cols]\n",
        "B3 = set1[B3_cols]\n",
        "B4 = set1[B4_cols]\n",
        "cols = ['Bx_mean','Bx_std','Bx_skew','Bx_kurtosis','Bx_entropy','Bx_rms','Bx_max','Bx_p2p','Bx_crest', 'Bx_clearence', 'Bx_shape', 'Bx_impulse',\n",
        "        'By_mean','By_std','By_skew','By_kurtosis','By_entropy','By_rms','By_max','By_p2p','By_crest', 'By_clearence', 'By_shape', 'By_impulse',\n",
        "        'class']\n",
        "B1.columns = cols\n",
        "B2.columns = cols\n",
        "B3.columns = cols\n",
        "B4.columns = cols\n",
        "final_data = pd.concat([B1,B2,B3,B4], axis=0, ignore_index=True)\n",
        "final_data.describe()"
      ]
    },
    {
      "cell_type": "markdown",
      "id": "9600f038",
      "metadata": {
        "id": "9600f038",
        "papermill": {
          "duration": 0.070751,
          "end_time": "2022-04-15T13:24:37.015507",
          "exception": false,
          "start_time": "2022-04-15T13:24:36.944756",
          "status": "completed"
        },
        "tags": []
      },
      "source": [
        "Train-Test Split (70%-30%)"
      ]
    },
    {
      "cell_type": "code",
      "execution_count": null,
      "id": "c32fbab1",
      "metadata": {
        "execution": {
          "iopub.execute_input": "2022-04-15T13:24:37.167042Z",
          "iopub.status.busy": "2022-04-15T13:24:37.166391Z",
          "iopub.status.idle": "2022-04-15T13:24:37.172364Z",
          "shell.execute_reply": "2022-04-15T13:24:37.171942Z",
          "shell.execute_reply.started": "2022-03-25T16:12:29.096362Z"
        },
        "id": "c32fbab1",
        "papermill": {
          "duration": 0.085961,
          "end_time": "2022-04-15T13:24:37.172474",
          "exception": false,
          "start_time": "2022-04-15T13:24:37.086513",
          "status": "completed"
        },
        "tags": []
      },
      "outputs": [],
      "source": [
        "X = final_data.copy()\n",
        "y = X.pop(\"class\")\n",
        "le = preprocessing.LabelEncoder()\n",
        "le.fit(y)\n",
        "y = le.transform(y)\n",
        "X_train, X_test, y_train, y_test = train_test_split(X, y, test_size = 0.3, random_state =1,stratify=y)"
      ]
    },
    {
      "cell_type": "markdown",
      "id": "595fc280",
      "metadata": {
        "id": "595fc280",
        "papermill": {
          "duration": 0.087666,
          "end_time": "2022-04-15T13:24:37.330583",
          "exception": false,
          "start_time": "2022-04-15T13:24:37.242917",
          "status": "completed"
        },
        "tags": []
      },
      "source": [
        "Evaluating Performance of Base Models"
      ]
    },
    {
      "cell_type": "code",
      "execution_count": null,
      "id": "0f55d250",
      "metadata": {
        "execution": {
          "iopub.execute_input": "2022-04-15T13:24:37.597084Z",
          "iopub.status.busy": "2022-04-15T13:24:37.596439Z",
          "iopub.status.idle": "2022-04-15T13:24:48.008814Z",
          "shell.execute_reply": "2022-04-15T13:24:48.009378Z",
          "shell.execute_reply.started": "2022-03-25T16:12:29.111212Z"
        },
        "id": "0f55d250",
        "papermill": {
          "duration": 10.53584,
          "end_time": "2022-04-15T13:24:48.009578",
          "exception": false,
          "start_time": "2022-04-15T13:24:37.473738",
          "status": "completed"
        },
        "tags": []
      },
      "outputs": [],
      "source": [
        "xgb_cl = xgb.XGBClassifier(use_label_encoder=False)\n",
        "xgb_cl.fit(X_train, y_train)\n",
        "preds = xgb_cl.predict(X_test)\n",
        "accuracy_score(y_test, preds)"
      ]
    },
    {
      "cell_type": "markdown",
      "id": "f2056d14",
      "metadata": {
        "id": "f2056d14",
        "papermill": {
          "duration": 0.072052,
          "end_time": "2022-04-15T13:24:48.156000",
          "exception": false,
          "start_time": "2022-04-15T13:24:48.083948",
          "status": "completed"
        },
        "tags": []
      },
      "source": [
        "**From now on, only X axis data will be used**\n",
        "                                                                                                                          \n",
        "So data acquired from y axis will be excluded  "
      ]
    },
    {
      "cell_type": "code",
      "execution_count": null,
      "id": "90813224",
      "metadata": {
        "execution": {
          "iopub.execute_input": "2022-04-15T13:24:48.319186Z",
          "iopub.status.busy": "2022-04-15T13:24:48.318256Z",
          "iopub.status.idle": "2022-04-15T13:24:48.325711Z",
          "shell.execute_reply": "2022-04-15T13:24:48.328310Z",
          "shell.execute_reply.started": "2022-03-25T16:12:39.822086Z"
        },
        "id": "90813224",
        "papermill": {
          "duration": 0.100834,
          "end_time": "2022-04-15T13:24:48.328525",
          "exception": false,
          "start_time": "2022-04-15T13:24:48.227691",
          "status": "completed"
        },
        "tags": []
      },
      "outputs": [],
      "source": [
        "x_axis_cols = [\"Bx_\"+tf for tf in time_features_list]\n",
        "print(x_axis_cols)\n",
        "X_x = X.copy()\n",
        "X_x = X[x_axis_cols]\n",
        "cols = ['B_mean','B_std','B_skew','B_kurtosis','B_entropy',\n",
        "        'B_rms','B_max','B_p2p','B_crest', 'B_clearence', 'B_shape', 'B_impulse']\n",
        "X_x.columns = cols\n",
        "X_x_train, X_x_test, y_train, y_test = train_test_split(X_x, y, test_size = 0.3, random_state =1,stratify=y)"
      ]
    },
    {
      "cell_type": "markdown",
      "id": "a93c7483",
      "metadata": {
        "id": "a93c7483",
        "papermill": {
          "duration": 0.144983,
          "end_time": "2022-04-15T13:24:48.600586",
          "exception": false,
          "start_time": "2022-04-15T13:24:48.455603",
          "status": "completed"
        },
        "tags": []
      },
      "source": [
        "# Model Selection"
      ]
    },
    {
      "cell_type": "markdown",
      "id": "a545f755",
      "metadata": {
        "id": "a545f755",
        "papermill": {
          "duration": 0.237562,
          "end_time": "2022-04-15T13:24:49.003179",
          "exception": false,
          "start_time": "2022-04-15T13:24:48.765617",
          "status": "completed"
        },
        "tags": []
      },
      "source": [
        "Now we can compare several learning algorithms"
      ]
    },
    {
      "cell_type": "code",
      "execution_count": null,
      "id": "73512ddc",
      "metadata": {
        "execution": {
          "iopub.execute_input": "2022-04-15T13:24:49.386167Z",
          "iopub.status.busy": "2022-04-15T13:24:49.385087Z",
          "iopub.status.idle": "2022-04-15T13:25:24.425606Z",
          "shell.execute_reply": "2022-04-15T13:25:24.426412Z",
          "shell.execute_reply.started": "2022-03-25T16:12:39.83707Z"
        },
        "id": "73512ddc",
        "papermill": {
          "duration": 35.237487,
          "end_time": "2022-04-15T13:25:24.426594",
          "exception": false,
          "start_time": "2022-04-15T13:24:49.189107",
          "status": "completed"
        },
        "tags": []
      },
      "outputs": [],
      "source": [
        "names = [\"Nearest Neighbors\", \"Linear SVM\", \"RBF SVM\", \n",
        "         #\"Gaussian Process\",\n",
        "         \"Decision Tree\", \"Random Forest\", \"Neural Net\", \"AdaBoost\",\n",
        "         \"Naive Bayes\", \"QDA\",\"XGBoost\",\"CatGBoost\",\"LightGBoost\"]\n",
        "\n",
        "\n",
        "classifiers = [\n",
        "    KNeighborsClassifier(3),\n",
        "    SVC(kernel=\"linear\", C=0.025),\n",
        "    SVC(gamma=2, C=1),\n",
        "    #GaussianProcessClassifier(1.0 * RBF(1.0)),\n",
        "    DecisionTreeClassifier(criterion=\"entropy\",max_depth=5, random_state=23),\n",
        "    RandomForestClassifier(max_depth=5, n_estimators=10, max_features=1),\n",
        "    MLPClassifier(alpha=1, max_iter=1000),\n",
        "    #DTC = DecisionTreeClassifier(random_state = 11, max_features = \"auto\", class_weight = \"auto\",max_depth = None)\n",
        "    AdaBoostClassifier(base_estimator = DecisionTreeClassifier(criterion=\"entropy\",max_depth=5, random_state=23)),\n",
        "    GaussianNB(),\n",
        "    QuadraticDiscriminantAnalysis(),\n",
        "    xgb.XGBClassifier(),\n",
        "    ]\n",
        "\n",
        "for name, clf in zip(names,classifiers):\n",
        "    print(\"training \"+name+\" ...\")\n",
        "    clf.fit(X_x_train,y_train)\n",
        "    score = clf.score(X_x_test,y_test)\n",
        "    print('Score of'+name+' is: '+str(score))\n",
        "    #iterate over classifiers\n",
        "    "
      ]
    },
    {
      "cell_type": "markdown",
      "id": "aWZldot6UB02",
      "metadata": {
        "id": "aWZldot6UB02"
      },
      "source": []
    },
    {
      "cell_type": "code",
      "execution_count": null,
      "id": "d9aa8156",
      "metadata": {
        "execution": {
          "iopub.execute_input": "2022-04-15T13:25:24.734508Z",
          "iopub.status.busy": "2022-04-15T13:25:24.733727Z",
          "iopub.status.idle": "2022-04-15T13:36:57.597837Z",
          "shell.execute_reply": "2022-04-15T13:36:57.598366Z",
          "shell.execute_reply.started": "2022-03-25T16:13:13.819074Z"
        },
        "id": "d9aa8156",
        "papermill": {
          "duration": 692.946983,
          "end_time": "2022-04-15T13:36:57.598538",
          "exception": false,
          "start_time": "2022-04-15T13:25:24.651555",
          "status": "completed"
        },
        "tags": []
      },
      "outputs": [],
      "source": [
        "def objective(trial):\n",
        "    xgb_params = dict(\n",
        "        max_depth=trial.suggest_int(\"max_depth\", 2, 10),\n",
        "        learning_rate=trial.suggest_float(\"learning_rate\", 1e-4, 1e-1, log=True),\n",
        "        n_estimators=trial.suggest_int(\"n_estimators\", 1000, 8000),\n",
        "        min_child_weight=trial.suggest_int(\"min_child_weight\", 1, 10),\n",
        "        colsample_bytree=trial.suggest_float(\"colsample_bytree\", 0.2, 1.0),\n",
        "        #colsample_bytree=trial.suggest_categorical('colsample_bytree', [0.3,0.4,0.5,0.6,0.7,0.8,0.9, 1.0]),\n",
        "        subsample=trial.suggest_float(\"subsample\", 0.2, 1.0),\n",
        "        reg_alpha=trial.suggest_float(\"reg_alpha\", 1e-4, 1e2, log=True),\n",
        "        reg_lambda=trial.suggest_float(\"reg_lambda\", 1e-4, 1e2, log=True),\n",
        "        )\n",
        "    xgb_cl = xgb.XGBClassifier(\n",
        "            booster='gbtree',\n",
        "            tree_method ='gpu_hist',\n",
        "            use_label_encoder=False,\n",
        "            **xgb_params)\n",
        "    xgb_cl.fit(X_x_train, y_train)\n",
        "    preds = xgb_cl.predict(X_x_test)\n",
        "    accuracy_score(y_test, preds)\n",
        "    return accuracy_score(y_test,preds)\n",
        "\n",
        "#study = optuna.create_study(direction=\"maximize\")\n",
        "study = optuna.create_study(\n",
        "    direction=\"maximize\",\n",
        "    sampler=optuna.samplers.TPESampler(),\n",
        "    pruner=optuna.pruners.MedianPruner(n_warmup_steps=10),) \n",
        "study.optimize(objective, n_trials=20)\n",
        "xgb_params = study.best_params\n",
        "\n"
      ]
    },
    {
      "cell_type": "code",
      "execution_count": null,
      "id": "MYzlKLL5pqfP",
      "metadata": {
        "id": "MYzlKLL5pqfP"
      },
      "outputs": [],
      "source": [
        "#plot_optimization_histor: shows the scores from all trials as well as the best score so far at each point.\n",
        "optuna.visualization.plot_optimization_history(study)"
      ]
    },
    {
      "cell_type": "code",
      "execution_count": null,
      "id": "jRkCPxW0QL9w",
      "metadata": {
        "id": "jRkCPxW0QL9w"
      },
      "outputs": [],
      "source": [
        "print(\"Best trial until now:\")\n",
        "print(\" Value: \", study.best_trial.value)\n",
        "print(\" Params: \")\n",
        "for key, value in study.best_trial.params.items():\n",
        "    print(f\"    {key}: {value}\")"
      ]
    },
    {
      "cell_type": "code",
      "execution_count": null,
      "id": "fpEc6M-m7DEv",
      "metadata": {
        "id": "fpEc6M-m7DEv"
      },
      "outputs": [],
      "source": [
        "#Visualize parameter importances.\n",
        "optuna.visualization.plot_param_importances(study)\n"
      ]
    },
    {
      "cell_type": "markdown",
      "id": "ccb395ab",
      "metadata": {
        "id": "ccb395ab",
        "papermill": {
          "duration": 0.085793,
          "end_time": "2022-04-15T13:36:57.769984",
          "exception": false,
          "start_time": "2022-04-15T13:36:57.684191",
          "status": "completed"
        },
        "tags": []
      },
      "source": [
        "Final XGBoost parameters were obtained by hyperparametertuning using GPU but final model should be trained by CPU to get possibly better result                                             \n"
      ]
    },
    {
      "cell_type": "code",
      "execution_count": null,
      "id": "ddee9b14",
      "metadata": {
        "execution": {
          "iopub.execute_input": "2022-04-15T13:36:57.948082Z",
          "iopub.status.busy": "2022-04-15T13:36:57.946459Z",
          "iopub.status.idle": "2022-04-15T13:37:57.330432Z",
          "shell.execute_reply": "2022-04-15T13:37:57.331093Z",
          "shell.execute_reply.started": "2022-03-25T16:32:07.887305Z"
        },
        "id": "ddee9b14",
        "papermill": {
          "duration": 59.475855,
          "end_time": "2022-04-15T13:37:57.331303",
          "exception": false,
          "start_time": "2022-04-15T13:36:57.855448",
          "status": "completed"
        },
        "tags": []
      },
      "outputs": [],
      "source": [
        "final_model = xgb.XGBClassifier(use_label_encoder=False,\n",
        "                                **xgb_params)\n",
        "final_model.fit(X_x_train, y_train)\n",
        "preds = final_model.predict(X_x_test)\n",
        "accuracy_score(y_test, preds)\n",
        "#performance is increased"
      ]
    },
    {
      "cell_type": "markdown",
      "id": "d963b5df",
      "metadata": {
        "id": "d963b5df",
        "papermill": {
          "duration": 0.146894,
          "end_time": "2022-04-15T13:37:57.626512",
          "exception": false,
          "start_time": "2022-04-15T13:37:57.479618",
          "status": "completed"
        },
        "tags": []
      },
      "source": [
        "Loading Dataset 2 and 3 to observe the result of the final model on them\n"
      ]
    },
    {
      "cell_type": "code",
      "execution_count": null,
      "id": "91d610c5",
      "metadata": {
        "execution": {
          "iopub.execute_input": "2022-04-15T13:57:35.306195Z",
          "iopub.status.busy": "2022-04-15T13:57:35.305390Z",
          "iopub.status.idle": "2022-04-15T13:57:35.388271Z",
          "shell.execute_reply": "2022-04-15T13:57:35.387675Z",
          "shell.execute_reply.started": "2022-03-25T16:56:15.620708Z"
        },
        "id": "91d610c5",
        "papermill": {
          "duration": 0.176021,
          "end_time": "2022-04-15T13:57:35.388410",
          "exception": false,
          "start_time": "2022-04-15T13:57:35.212389",
          "status": "completed"
        },
        "tags": []
      },
      "outputs": [],
      "source": [
        "set2 = pd.read_csv(\"./set2_timefeatures.csv\")\n",
        "set3 = pd.read_csv(\"./set3_timefeatures.csv\")\n",
        "time_2 = set2['Unnamed: 0']\n",
        "#Setting index columns to time\n",
        "set2 = set2.rename(columns={'Unnamed: 0':'time'}).set_index('time')\n",
        "set3 = set3.rename(columns={'Unnamed: 0':'time'}).set_index('time')"
      ]
    },
    {
      "cell_type": "markdown",
      "id": "0bac6a3e",
      "metadata": {
        "id": "0bac6a3e",
        "papermill": {
          "duration": 0.085624,
          "end_time": "2022-04-15T13:57:35.560010",
          "exception": false,
          "start_time": "2022-04-15T13:57:35.474386",
          "status": "completed"
        },
        "tags": []
      },
      "source": [
        "Vertically splitting bearing datum to obtain each bearings' data seperately"
      ]
    },
    {
      "cell_type": "code",
      "execution_count": null,
      "id": "6d4b27f3",
      "metadata": {
        "execution": {
          "iopub.execute_input": "2022-04-15T13:57:35.747015Z",
          "iopub.status.busy": "2022-04-15T13:57:35.746151Z",
          "iopub.status.idle": "2022-04-15T13:57:35.748854Z",
          "shell.execute_reply": "2022-04-15T13:57:35.748238Z",
          "shell.execute_reply.started": "2022-03-25T16:56:15.711167Z"
        },
        "id": "6d4b27f3",
        "papermill": {
          "duration": 0.103662,
          "end_time": "2022-04-15T13:57:35.748984",
          "exception": false,
          "start_time": "2022-04-15T13:57:35.645322",
          "status": "completed"
        },
        "tags": []
      },
      "outputs": [],
      "source": [
        "B1_cols = [col for col in set2.columns if \"B1\" in col]\n",
        "B2_cols = [col for col in set2.columns if \"B2\" in col]\n",
        "B3_cols = [col for col in set2.columns if \"B3\" in col]\n",
        "B4_cols = [col for col in set2.columns if \"B4\" in col]\n",
        "\n",
        "set2_B1 = set2[B1_cols]\n",
        "set2_B2 = set2[B2_cols]\n",
        "set2_B3 = set2[B3_cols]\n",
        "set2_B4 = set2[B4_cols]\n",
        "\n",
        "set3_B1 = set3[B1_cols]\n",
        "set3_B2 = set3[B2_cols]\n",
        "set3_B3 = set3[B3_cols]\n",
        "set3_B4 = set3[B4_cols]\n",
        "\n",
        "set2_B1.columns = cols\n",
        "set2_B2.columns = cols\n",
        "set2_B3.columns = cols\n",
        "set2_B4.columns = cols\n",
        "set3_B1.columns = cols\n",
        "set3_B2.columns = cols\n",
        "set3_B3.columns = cols\n",
        "set3_B4.columns = cols\n"
      ]
    },
    {
      "cell_type": "markdown",
      "id": "f5602903",
      "metadata": {
        "id": "f5602903",
        "papermill": {
          "duration": 0.085759,
          "end_time": "2022-04-15T13:57:35.920389",
          "exception": false,
          "start_time": "2022-04-15T13:57:35.834630",
          "status": "completed"
        },
        "tags": []
      },
      "source": [
        "# Results\n",
        "Here, we using plotly library which is more useful than matplotlib in terms of interactivity                   \n",
        "Extracted features are plotted with their \"health state\" label"
      ]
    },
    {
      "cell_type": "code",
      "execution_count": null,
      "id": "2a361de0",
      "metadata": {
        "execution": {
          "iopub.execute_input": "2022-04-15T13:57:36.099267Z",
          "iopub.status.busy": "2022-04-15T13:57:36.098477Z",
          "iopub.status.idle": "2022-04-15T13:57:38.558399Z",
          "shell.execute_reply": "2022-04-15T13:57:38.558982Z",
          "shell.execute_reply.started": "2022-03-25T16:56:15.727491Z"
        },
        "id": "2a361de0",
        "papermill": {
          "duration": 2.553485,
          "end_time": "2022-04-15T13:57:38.559139",
          "exception": false,
          "start_time": "2022-04-15T13:57:36.005654",
          "status": "completed"
        },
        "tags": []
      },
      "outputs": [],
      "source": [
        "# HERE number and dataset of bearing can be changed !!!\n",
        "bearing = set2_B2\n",
        "\n",
        "#predicting state of bearing with final_model\n",
        "preds = final_model.predict(bearing)\n",
        "preds = le.inverse_transform(preds)\n",
        "#inserting prediction and time to the dataframe\n",
        "bearing.insert(12,'state',preds)\n",
        "bearing.insert(13, 'time',bearing.index)\n",
        "\n",
        "for tf in time_features_list:\n",
        "    col = \"B_{}\".format(tf)\n",
        "    print(col)\n",
        "    fig=go.Figure((go.Scatter(x=bearing['time'], y=bearing[col],\n",
        "                             mode='lines',\n",
        "                             line=dict(color='rgba(0,0,220,0.8)'))))\n",
        "    fig.add_traces(px.scatter(bearing, x='time', y=col, color='state').data)\n",
        "    fig.update_layout(template='plotly_dark')\n",
        "    fig.update_xaxes(showgrid=False)\n",
        "    fig.show()\n",
        "    "
      ]
    },
    {
      "cell_type": "markdown",
      "id": "029a846a",
      "metadata": {
        "id": "029a846a",
        "papermill": {
          "duration": 0.118406,
          "end_time": "2022-04-15T13:57:38.793675",
          "exception": false,
          "start_time": "2022-04-15T13:57:38.675269",
          "status": "completed"
        },
        "tags": []
      },
      "source": [
        "Downloading CSV File\n"
      ]
    },
    {
      "cell_type": "code",
      "execution_count": null,
      "id": "eeac4aab",
      "metadata": {
        "execution": {
          "iopub.execute_input": "2022-04-15T13:57:39.031251Z",
          "iopub.status.busy": "2022-04-15T13:57:39.030682Z",
          "iopub.status.idle": "2022-04-15T13:57:39.035099Z",
          "shell.execute_reply": "2022-04-15T13:57:39.035482Z",
          "shell.execute_reply.started": "2022-03-25T16:57:54.902412Z"
        },
        "id": "eeac4aab",
        "papermill": {
          "duration": 0.127002,
          "end_time": "2022-04-15T13:57:39.035621",
          "exception": false,
          "start_time": "2022-04-15T13:57:38.908619",
          "status": "completed"
        },
        "tags": []
      },
      "outputs": [],
      "source": [
        "from IPython.display import HTML\n",
        "def create_download_link(title = \"Download CSV file\", filename = \"data.csv\"):  \n",
        "    html = '<a href={filename}>{title}</a>'\n",
        "    html = html.format(title=title,filename=filename)\n",
        "    return HTML(html)\n",
        "create_download_link(filename='./set1_timefeatures.csv')\n"
      ]
    },
    {
      "cell_type": "code",
      "execution_count": null,
      "id": "4b2f39d1",
      "metadata": {
        "execution": {
          "iopub.execute_input": "2022-04-15T13:57:39.293575Z",
          "iopub.status.busy": "2022-04-15T13:57:39.292358Z",
          "iopub.status.idle": "2022-04-15T13:57:39.295616Z",
          "shell.execute_reply": "2022-04-15T13:57:39.296015Z",
          "shell.execute_reply.started": "2022-03-25T16:57:57.00025Z"
        },
        "id": "4b2f39d1",
        "papermill": {
          "duration": 0.131903,
          "end_time": "2022-04-15T13:57:39.296158",
          "exception": false,
          "start_time": "2022-04-15T13:57:39.164255",
          "status": "completed"
        },
        "tags": []
      },
      "outputs": [],
      "source": [
        "create_download_link(filename='./set2_timefeatures.csv')"
      ]
    },
    {
      "cell_type": "code",
      "execution_count": null,
      "id": "b6349d93",
      "metadata": {
        "execution": {
          "iopub.execute_input": "2022-04-15T13:57:39.534343Z",
          "iopub.status.busy": "2022-04-15T13:57:39.533200Z",
          "iopub.status.idle": "2022-04-15T13:57:39.536388Z",
          "shell.execute_reply": "2022-04-15T13:57:39.536792Z"
        },
        "id": "b6349d93",
        "papermill": {
          "duration": 0.125431,
          "end_time": "2022-04-15T13:57:39.536954",
          "exception": false,
          "start_time": "2022-04-15T13:57:39.411523",
          "status": "completed"
        },
        "tags": []
      },
      "outputs": [],
      "source": [
        "create_download_link(filename='./set3_timefeatures.csv')"
      ]
    },
    {
      "cell_type": "code",
      "execution_count": null,
      "id": "44e9d3e5",
      "metadata": {
        "execution": {
          "iopub.execute_input": "2022-04-15T13:57:39.821263Z",
          "iopub.status.busy": "2022-04-15T13:57:39.820445Z",
          "iopub.status.idle": "2022-04-15T13:57:40.687338Z",
          "shell.execute_reply": "2022-04-15T13:57:40.686855Z"
        },
        "id": "44e9d3e5",
        "papermill": {
          "duration": 1.035533,
          "end_time": "2022-04-15T13:57:40.687462",
          "exception": false,
          "start_time": "2022-04-15T13:57:39.651929",
          "status": "completed"
        },
        "tags": []
      },
      "outputs": [],
      "source": [
        "import joblib\n",
        "joblib.dump(final_model, 'model1.pkl')"
      ]
    }
  ],
  "metadata": {
    "accelerator": "GPU",
    "colab": {
      "collapsed_sections": [],
      "machine_shape": "hm",
      "name": "ML_Project_Report_Group3_supervised_learning_MAIB.ipynb",
      "private_outputs": true,
      "provenance": []
    },
    "kernelspec": {
      "display_name": "Python 3 (ipykernel)",
      "language": "python",
      "name": "python3"
    },
    "language_info": {
      "codemirror_mode": {
        "name": "ipython",
        "version": 3
      },
      "file_extension": ".py",
      "mimetype": "text/x-python",
      "name": "python",
      "nbconvert_exporter": "python",
      "pygments_lexer": "ipython3",
      "version": "3.9.7"
    },
    "papermill": {
      "default_parameters": {},
      "duration": 2633.380798,
      "end_time": "2022-04-15T13:57:43.249682",
      "environment_variables": {},
      "exception": null,
      "input_path": "__notebook__.ipynb",
      "output_path": "__notebook__.ipynb",
      "parameters": {},
      "start_time": "2022-04-15T13:13:49.868884",
      "version": "2.3.3"
    }
  },
  "nbformat": 4,
  "nbformat_minor": 5
}
